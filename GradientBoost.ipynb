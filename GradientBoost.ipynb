{
  "nbformat": 4,
  "nbformat_minor": 0,
  "metadata": {
    "colab": {
      "provenance": [],
      "authorship_tag": "ABX9TyMix6x1aoLwrBNPvPiT3c59",
      "include_colab_link": true
    },
    "kernelspec": {
      "name": "python3",
      "display_name": "Python 3"
    },
    "language_info": {
      "name": "python"
    }
  },
  "cells": [
    {
      "cell_type": "markdown",
      "metadata": {
        "id": "view-in-github",
        "colab_type": "text"
      },
      "source": [
        "<a href=\"https://colab.research.google.com/github/duonghiepit/Gradient-Boost/blob/main/GradientBoost.ipynb\" target=\"_parent\"><img src=\"https://colab.research.google.com/assets/colab-badge.svg\" alt=\"Open In Colab\"/></a>"
      ]
    },
    {
      "cell_type": "code",
      "source": [
        "!gdown 1vXWqMxf0YQ31IGmMZpMOiuPNtgM17BZV"
      ],
      "metadata": {
        "colab": {
          "base_uri": "https://localhost:8080/"
        },
        "id": "M-UNfJ7fDJol",
        "outputId": "31eac6ad-99f4-4be5-be65-d63448f571f2"
      },
      "execution_count": 6,
      "outputs": [
        {
          "output_type": "stream",
          "name": "stdout",
          "text": [
            "Downloading...\n",
            "From: https://drive.google.com/uc?id=1vXWqMxf0YQ31IGmMZpMOiuPNtgM17BZV\n",
            "To: /content/advertising.csv\n",
            "\r  0% 0.00/4.06k [00:00<?, ?B/s]\r100% 4.06k/4.06k [00:00<00:00, 19.3MB/s]\n"
          ]
        }
      ]
    },
    {
      "cell_type": "code",
      "execution_count": 29,
      "metadata": {
        "id": "pnYM_q5W90xa"
      },
      "outputs": [],
      "source": [
        "import numpy as np\n",
        "from sklearn.tree import DecisionTreeRegressor"
      ]
    },
    {
      "cell_type": "code",
      "source": [
        "class MyGradientBooster:\n",
        "\n",
        "    def __init__(self, max_depth=8, min_samples_split=5, min_samples_leaf=5, max_features=3, lr=0.1, num_iter=50):\n",
        "        self.max_depth = max_depth\n",
        "        self.min_samples_split = min_samples_split\n",
        "        self.min_samples_leaf = min_samples_leaf\n",
        "        self.max_features = max_features\n",
        "        self.lr = lr\n",
        "        self.num_iter = num_iter\n",
        "        self.y_mean = 0\n",
        "\n",
        "    def __calculate_loss(self, y, y_pred):\n",
        "        loss = (1 / len(y)) * 0.5 * np.sum(np.square(y - y_pred))\n",
        "\n",
        "        return loss\n",
        "\n",
        "    def __take_gradient(self, y, y_pred):\n",
        "        # grad = -(y-y_pred)  # Cho dự đoán = predict - alpha * residual\n",
        "        grad = (y - y_pred)   # Cho dự đoán = predict + alpha * residual\n",
        "\n",
        "        return grad\n",
        "\n",
        "    def __create_base_model(self, X, y):\n",
        "        base = DecisionTreeRegressor(max_depth=self.max_depth,\n",
        "                                     min_samples_split=self.min_samples_split,\n",
        "                                     min_samples_leaf=self.min_samples_leaf,\n",
        "                                     max_features=self.max_features)\n",
        "        base.fit(X, y)\n",
        "\n",
        "        return base\n",
        "\n",
        "    def predict(self, models, y, X):\n",
        "        pred_0 = np.array([self.y_mean] * len(X))\n",
        "        pred = pred_0.reshape(len(pred_0), 1)\n",
        "\n",
        "        for i in range(len(models)):\n",
        "            temp = (models[i].predict(X)).reshape(len(X), 1)\n",
        "            # pred -= self.lr * temp    # Cho dự đoán = pred - alpha * residual\n",
        "            pred += self.lr * temp      # Cho dự đoán = pred + alpha * residual\n",
        "\n",
        "        return pred\n",
        "\n",
        "    def train(self, X, y):\n",
        "        models = []\n",
        "        losses = []\n",
        "        self.y_mean = np.mean(y)\n",
        "        pred_0 = np.array([np.mean(y)] * len(y))\n",
        "        pred = pred_0.reshape(len(pred_0), 1)\n",
        "\n",
        "        for epoch in range(self.num_iter):\n",
        "            loss = self.__calculate_loss(y, pred)\n",
        "            # print('loss: epoch', epoch, '=', loss)\n",
        "            losses.append(loss)\n",
        "            grads = self.__take_gradient(y, pred)\n",
        "            # print('gradient', grads)\n",
        "            base = self.__create_base_model(X, grads)\n",
        "            r = (base.predict(X)).reshape(len(X), 1)\n",
        "            # print('r', r)\n",
        "            # pred -= self.lr * r\n",
        "            pred += self.lr * r\n",
        "            models.append(base)\n",
        "\n",
        "        return models, losses, pred_0"
      ],
      "metadata": {
        "id": "UdBx3ZHa-Cm9"
      },
      "execution_count": 30,
      "outputs": []
    },
    {
      "cell_type": "code",
      "source": [
        "import pandas as pd\n",
        "import numpy as np\n",
        "from sklearn.preprocessing import StandardScaler\n",
        "from sklearn.model_selection import train_test_split\n",
        "from sklearn.tree import DecisionTreeRegressor\n",
        "import matplotlib.pyplot as plt\n",
        "import seaborn as sns\n",
        "from sklearn.metrics import accuracy_score, mean_squared_error, roc_auc_score"
      ],
      "metadata": {
        "id": "Ks-sUjocA8hC"
      },
      "execution_count": 31,
      "outputs": []
    },
    {
      "cell_type": "code",
      "source": [
        "# READ DATA\n",
        "data = pd.read_csv('/content/advertising.csv')\n",
        "data.fillna(0, inplace=True)\n",
        "\n",
        "#X, y\n",
        "X = data.iloc[:, :-1].values\n",
        "y = data.iloc[:, -1].values\n",
        "X_train, X_test, y_train, y_test = train_test_split(X, y, test_size=.2, random_state=42)"
      ],
      "metadata": {
        "id": "P9bKsTMnDBc8"
      },
      "execution_count": 32,
      "outputs": []
    },
    {
      "cell_type": "code",
      "source": [
        "# Scaling\n",
        "scaler = StandardScaler()\n",
        "X_train = scaler.fit_transform(X_train)\n",
        "X_test = scaler.fit_transform(X_test)\n",
        "y_train = np.array(y_train).reshape(X_train.shape[0], 1)\n",
        "y_test = np.array(y_test).reshape(X_test.shape[0], 1)"
      ],
      "metadata": {
        "id": "2rwlNu_iDnKC"
      },
      "execution_count": 33,
      "outputs": []
    },
    {
      "cell_type": "code",
      "source": [
        "# TRAIN\n",
        "G = MyGradientBooster()\n",
        "models, losses, pred_0 = G.train(X_train, y_train)"
      ],
      "metadata": {
        "id": "QoFO9bCdDt17"
      },
      "execution_count": 34,
      "outputs": []
    },
    {
      "cell_type": "code",
      "source": [
        "sns.set_style('darkgrid')\n",
        "ax = sns.lineplot(x=range(50),y=losses)\n",
        "ax.set(xlabel='Epoch',ylabel='Loss',title='Loss vs Epoch')"
      ],
      "metadata": {
        "colab": {
          "base_uri": "https://localhost:8080/",
          "height": 490
        },
        "id": "y9MlBgXxEX1A",
        "outputId": "17c28372-3bcf-432b-8473-7140b8cf3842"
      },
      "execution_count": 35,
      "outputs": [
        {
          "output_type": "execute_result",
          "data": {
            "text/plain": [
              "[Text(0.5, 0, 'Epoch'), Text(0, 0.5, 'Loss'), Text(0.5, 1.0, 'Loss vs Epoch')]"
            ]
          },
          "metadata": {},
          "execution_count": 35
        },
        {
          "output_type": "display_data",
          "data": {
            "text/plain": [
              "<Figure size 640x480 with 1 Axes>"
            ],
            "image/png": "[encoded data removed]"
          },
          "metadata": {}
        }
      ]
    },
    {
      "cell_type": "code",
      "source": [],
      "metadata": {
        "id": "GSSxITchFsZb"
      },
      "execution_count": 35,
      "outputs": []
    }
  ]
}